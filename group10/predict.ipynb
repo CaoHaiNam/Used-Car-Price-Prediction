{
 "metadata": {
  "language_info": {
   "codemirror_mode": {
    "name": "ipython",
    "version": 3
   },
   "file_extension": ".py",
   "mimetype": "text/x-python",
   "name": "python",
   "nbconvert_exporter": "python",
   "pygments_lexer": "ipython3",
   "version": "3.8.5-final"
  },
  "orig_nbformat": 2,
  "kernelspec": {
   "name": "python3",
   "display_name": "Python 3",
   "language": "python"
  }
 },
 "nbformat": 4,
 "nbformat_minor": 2,
 "cells": [
  {
   "cell_type": "code",
   "execution_count": 3,
   "metadata": {},
   "outputs": [],
   "source": [
    "import keras\n",
    "import pandas as pd\n",
    "import json\n",
    "import textdistance\n",
    "import re\n",
    "from collections import Counter\n",
    "import numpy as np"
   ]
  },
  {
   "source": [
    "### Load model và các file cần thiết cho quá trình dự đoán"
   ],
   "cell_type": "markdown",
   "metadata": {}
  },
  {
   "cell_type": "code",
   "execution_count": 5,
   "metadata": {},
   "outputs": [],
   "source": [
    "model = keras.models.load_model(\"./main_model3.h5\")\n",
    "raw_data= pd.read_csv('./main_data.csv', index_col=[0])\n",
    "stats = pd.read_csv('./main_stats.csv', index_col=[0])\n",
    "with open('./model_features.json', 'r', encoding='utf8') as f:\n",
    "  model_features = json.load(f)\n",
    "with open('./catogorical_features.json', 'r', encoding='utf8') as f:\n",
    "  categorical_features = json.load(f)"
   ]
  },
  {
   "cell_type": "code",
   "execution_count": 6,
   "metadata": {},
   "outputs": [],
   "source": [
    "keys = ['TinhTrang',  'Hang',  'DongXe',  'SoKmDaDi',  'NamSanXuat',  'DiaDiem',  'SoCho',  'XuatXu',  'KieuDang',  'NhienLieu',  'HopSo']"
   ]
  },
  {
   "cell_type": "code",
   "execution_count": 7,
   "metadata": {},
   "outputs": [],
   "source": [
    "def real(x):\n",
    "  return (x * stats.loc['GiaTien', 'std']) + stats.loc['GiaTien','mean']"
   ]
  },
  {
   "cell_type": "code",
   "execution_count": 8,
   "metadata": {},
   "outputs": [],
   "source": [
    "num_features = len(model_features)"
   ]
  },
  {
   "source": [
    "### Hàm sửa lỗi chính tả trong trường hợp người dùng nhập sai chính tả"
   ],
   "cell_type": "markdown",
   "metadata": {}
  },
  {
   "cell_type": "code",
   "execution_count": 9,
   "metadata": {},
   "outputs": [],
   "source": [
    "def my_autocorrect(input_word, V, word_freq_dict, probs):\n",
    "    input_word = input_word.lower()\n",
    " \n",
    "    if input_word in V:\n",
    "        return input_word\n",
    "    else:\n",
    "        similarities = [1-(textdistance.Jaccard(qval=2).distance(v,input_word)) for v in word_freq_dict.keys()]\n",
    "        df = pd.DataFrame.from_dict(probs, orient='index').reset_index()\n",
    "        df = df.rename(columns={'index':'Word', 0:'Prob'})\n",
    "        df['Similarity'] = similarities\n",
    "        output = df.sort_values(['Similarity', 'Prob'], ascending=False).head().reset_index()\n",
    "        return(output.loc[0, 'Word'])    \n",
    "def correct(field, input_word):\n",
    "  words = raw_data[field]\n",
    " \n",
    "  # This is our vocabulary\n",
    "  V = categorical_features[field]\n",
    "\n",
    "  word_freq_dict = {}  \n",
    "  word_freq_dict = Counter(words)  \n",
    "  \n",
    "  # print(word_freq_dict.most_common()[0:10])\n",
    "  probs = {} \n",
    "      \n",
    "  Total = sum(word_freq_dict.values())\n",
    "      \n",
    "  for k in word_freq_dict.keys():\n",
    "      probs[k] = word_freq_dict[k]/Total\n",
    "\n",
    "  return my_autocorrect(input_word, V, word_freq_dict, probs)"
   ]
  },
  {
   "source": [
    "### Hàm dự đoán giá xe, đầu vào là các thuộc tính đã được định nghĩa sẵn, lần lượt là: tình trạng, hãng xe, dòng xe, số km đã đi, năm sản xuất, địa điểm, số chỗ, xuất xứ, kiểu dáng, nhiêu liệu, hộp số."
   ],
   "cell_type": "markdown",
   "metadata": {}
  },
  {
   "cell_type": "code",
   "execution_count": 12,
   "metadata": {},
   "outputs": [],
   "source": [
    "def predict(values):\n",
    "  new_values = []\n",
    "  for field, value in zip(keys, values):\n",
    "    if field != 'SoKmDaDi' and field != 'SoCho' and field != 'NamSanXuat':\n",
    "      new_values.append(correct(field, value))\n",
    "    else:\n",
    "      new_values.append(value)\n",
    "  res = dict(zip(keys, new_values))\n",
    "  x = np.zeros(num_features,)\n",
    "  for key in res:\n",
    "    # key = unicodedata.normalize('NFC', key)\n",
    "    if key == 'SoKmDaDi':\n",
    "      idx = model_features[key]\n",
    "      x[idx] = res[key]\n",
    "    elif key == 'NamSanXuat':\n",
    "      idx = model_features['Tuoi']\n",
    "      tuoi = 2020 - res[key]\n",
    "      x[idx] = tuoi\n",
    "    elif key == 'SoCho':\n",
    "      idx = model_features['SoCho']\n",
    "      x[idx] = res[key]\n",
    "    else:\n",
    "      idx = model_features['_'.join([key, res[key]])]\n",
    "      x[idx] = 1\n",
    "  x = (x - np.array((list(stats['mean'])[1:])))/np.array((list(stats['std'])[1:]))\n",
    "  x = x.reshape(1, num_features)\n",
    "  y = model.predict(x)[0][0]\n",
    "  return int(real(y))"
   ]
  },
  {
   "source": [
    "### Dự đoán"
   ],
   "cell_type": "markdown",
   "metadata": {}
  },
  {
   "cell_type": "code",
   "execution_count": 13,
   "metadata": {},
   "outputs": [
    {
     "output_type": "execute_result",
     "data": {
      "text/plain": [
       "585255392"
      ]
     },
     "metadata": {},
     "execution_count": 13
    }
   ],
   "source": [
    "values = ['mới', 'Toyota', 'Innova', 0, 2020, 'Hà Nội', 4, 'Trong nước', 'Minivan (MPV)', 'Xăng', 'Số sàn']\n",
    "predict(values)"
   ]
  },
  {
   "source": [
    "### Nhập dữ liệu từ bàn phím"
   ],
   "cell_type": "markdown",
   "metadata": {}
  },
  {
   "cell_type": "code",
   "execution_count": 14,
   "metadata": {},
   "outputs": [
    {
     "output_type": "stream",
     "name": "stdout",
     "text": [
      "Nhap TinhTrang: \n",
      "Nhap Hang: \n",
      "Nhap DongXe: \n",
      "Nhap SoKmDaDi: \n",
      "Nhap NamSanXuat: \n",
      "Nhap DiaDiem: \n",
      "Nhap SoCho: \n",
      "Nhap XuatXu: \n",
      "Nhap KieuDang: \n",
      "Nhap NhienLieu: \n",
      "Nhap HopSo: \n"
     ]
    }
   ],
   "source": [
    "values = []\n",
    "for i in keys:\n",
    "  print('Nhap {}: '.format(i))\n",
    "  if i == 'SoKmDaDi' or i == 'SoCho':\n",
    "    x = int(input())\n",
    "    while x < 0:\n",
    "      print('Yêu cầu nhập lại:')\n",
    "      x = int(input())  \n",
    "    values.append(x)\n",
    "  elif i == 'NamSanXuat':\n",
    "    x = int(input())\n",
    "    while x < 0 or x > 2020:\n",
    "      print('Yêu cầu nhập lại:')\n",
    "      x = int(input())\n",
    "    values.append(x) \n",
    "  else:\n",
    "    values.append(input())"
   ]
  },
  {
   "cell_type": "code",
   "execution_count": 17,
   "metadata": {},
   "outputs": [
    {
     "output_type": "stream",
     "name": "stdout",
     "text": [
      "Đây là thông tin về xe của bạn:\n{'TinhTrang': 'Mới', 'Hang': 'toyota', 'DongXe': 'camry', 'SoKmDaDi': 0, 'NamSanXuat': 2020, 'DiaDiem': 'Hà Nội', 'SoCho': 4, 'XuatXu': 'Nhập khẩu', 'KieuDang': 'Sedan', 'NhienLieu': 'Xăng', 'HopSo': 'Tự động'}\n"
     ]
    }
   ],
   "source": [
    "new_values = []\n",
    "for field, value in zip(keys, values):\n",
    "  if field != 'SoKmDaDi' and field != 'SoCho' and field != 'NamSanXuat':\n",
    "    new_values.append(correct(field, value))\n",
    "  else:\n",
    "    new_values.append(value)\n",
    "print('Đây là thông tin về xe của bạn:')\n",
    "print(dict(zip(keys, new_values)))"
   ]
  },
  {
   "cell_type": "code",
   "execution_count": 18,
   "metadata": {},
   "outputs": [
    {
     "output_type": "stream",
     "name": "stdout",
     "text": [
      "Y/c dữ đoán: ấn 1, thoát ấn 0\n",
      "883274559\n"
     ]
    }
   ],
   "source": [
    "print('Y/c dữ đoán: ấn 1, thoát ấn 0')\n",
    "x = int(input())\n",
    "if x == 1:\n",
    "  print(predict(new_values))\n",
    "else:\n",
    "  print('good bye')"
   ]
  }
 ]
}