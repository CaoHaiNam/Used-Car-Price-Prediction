{
  "nbformat": 4,
  "nbformat_minor": 0,
  "metadata": {
    "colab": {
      "name": "Crawl.ipynb",
      "provenance": [],
      "collapsed_sections": []
    },
    "kernelspec": {
      "display_name": "Python 3",
      "name": "python3",
      "language": "python"
    }
  },
  "cells": [
    {
      "cell_type": "code",
      "metadata": {
        "id": "atFQ4MMO4ZeG"
      },
      "source": [
        "import bs4\n",
        "import pandas\n",
        "import requests\n",
        "import re"
      ],
      "execution_count": 1,
      "outputs": []
    },
    {
      "cell_type": "code",
      "metadata": {
        "id": "97cKV4IT4mTT"
      },
      "source": [
        "def get_car_info(url):\n",
        "    page = requests.get(url, headers={\"Accept-Language\": \"en-US\"})\n",
        "    soup = bs4.BeautifulSoup(page.text, \"html.parser\")\n",
        "    car_info = {}\n",
        "    car_info1={}\n",
        "    gia = soup.find(class_='styles__PriceWrapper-sc-14jh840-3 kCmIqn').text.split(\" \")[0]\n",
        "    car_info1['Gia(VND)'] = gia\n",
        "\n",
        "\n",
        "    idinfo={0:'Hãng', 1:'Dòng xe', 2:'Năm sản xuất', 3:'Số Km đã đi', 4:'Tình trạng', 5:'Hộp số', 6:'Nhiên liệu',\n",
        "            7:'Xuất xứ', 8:'Kiểu dáng', 9:'Số chỗ', 10:'Người bán gửi Video', 11:'Dia_chi'}\n",
        "    for feature in idinfo:\n",
        "      car_info[idinfo[feature]]= 'null'\n",
        "    for title in soup.findAll('div', class_='media-body media-middle'):\n",
        "      if (len(title.text.split(': ')) > 1 ):\n",
        "        car_info[title.text.split(': ')[0]] = title.text.split(': ')[1]\n",
        "      else:\n",
        "        car_info['Dia_chi'] = title.text\n",
        "\n",
        "    for k in range(0, 12):\n",
        "      car_info1[idinfo[k]]= car_info[idinfo[k]]\n",
        "    return car_info1"
      ],
      "execution_count": 2,
      "outputs": []
    },
    {
      "cell_type": "code",
      "metadata": {
        "id": "2bOyrVJqLP3c"
      },
      "source": [
        "def get_link(url, data):\n",
        "      page = requests.get(url,headers={\"Accept-Language\":\"en-US\"})\n",
        "      soup= bs4.BeautifulSoup(page.text,\"html.parser\")\n",
        "      header = ['Gia(VND)', 'Hãng', 'Dòng xe', 'Năm sản xuất', 'Số Km đã đi', 'Tình trạng', 'Hộp số', 'Nhiên liệu',\n",
        "            'Xuất xứ', 'Kiểu dáng', 'Số chỗ', 'Người bán gửi Video', 'Dia_chi']\n",
        "      for link in soup.find_all(class_=\"styles__AdItemLayout-sc-1s892rt-0 gQrapR\"):\n",
        "          car_url = re.findall(r'''href=\\n\"\\S+\\\"''', str(link))[0]\n",
        "          car_url= re.sub(r'href=\\\"', '', str(car_url))\n",
        "          car_url= re.sub(r'\\\"','',car_url)\n",
        "          car_info= get_car_info(main_url + car_url)\n",
        "          car_data= [car_info[fea] for fea in header]\n",
        "          data.append(car_data)"
      ],
      "execution_count": null,
      "outputs": []
    },
    {
      "cell_type": "code",
      "metadata": {
        "id": "k26AVJpKWYRl"
      },
      "source": [
        "data=[]\n",
        "for i in range(1, 10):\n",
        "  print(i)\n",
        "  get_link('https://oto.com/mua-ban-oto?page=' + str(i), data)"
      ],
      "execution_count": null,
      "outputs": []
    },
    {
      "cell_type": "code",
      "metadata": {
        "id": "9kxlyi1ZjDJv"
      },
      "source": [
        "df= pandas.DataFrame(data)\n",
        "df.to_csv('./raw_data/crawl.csv', index= False)"
      ],
      "execution_count": null,
      "outputs": []
    }
  ]
}