{
 "metadata": {
  "language_info": {
   "codemirror_mode": {
    "name": "ipython",
    "version": 3
   },
   "file_extension": ".py",
   "mimetype": "text/x-python",
   "name": "python",
   "nbconvert_exporter": "python",
   "pygments_lexer": "ipython3",
   "version": "3.6.8-final"
  },
  "orig_nbformat": 2,
  "kernelspec": {
   "name": "Python 3.6.8 64-bit",
   "display_name": "Python 3.6.8 64-bit",
   "metadata": {
    "interpreter": {
     "hash": "62b827cd2d8108b3cb0306447321bd64244422ec9a07479674c0c1f9751070d5"
    }
   }
  }
 },
 "nbformat": 4,
 "nbformat_minor": 2,
 "cells": [
  {
   "cell_type": "code",
   "execution_count": 1,
   "metadata": {},
   "outputs": [],
   "source": [
    "import scrapy\n",
    "\n",
    "\n",
    "class OldCarSpider(scrapy.Spider):\n",
    "    name = \"OldCar\"\n",
    "\n",
    "    def start_requests(self):\n",
    "        urls = [\n",
    "            'https://xe.chotot.com/dak-lak/thanh-pho-buon-ma-thuot/mua-ban-oto/76477935.htm#px=SR-stickyad-[PO-1][PL-top]',\n",
    "        ]\n",
    "        for url in urls:\n",
    "            yield scrapy.Request(url=url, callback=self.parse)\n",
    "\n",
    "    def parse(self, response):\n",
    "        page = response.url.split(\"/\")[-2]\n",
    "        filename = 'quotes-%s.html' % page\n",
    "        with open(filename, 'wb') as f:\n",
    "            f.write(response.body)\n",
    "        self.log('Saved file %s' % filename)"
   ]
  },
  {
   "cell_type": "code",
   "execution_count": 20,
   "metadata": {},
   "outputs": [
    {
     "output_type": "error",
     "ename": "SyntaxError",
     "evalue": "invalid syntax (<ipython-input-20-b7897bf25f44>, line 1)",
     "traceback": [
      "\u001b[1;36m  File \u001b[1;32m\"<ipython-input-20-b7897bf25f44>\"\u001b[1;36m, line \u001b[1;32m1\u001b[0m\n\u001b[1;33m    scrapy shell 'http://quotes.toscrape.com/page/1/'\u001b[0m\n\u001b[1;37m               ^\u001b[0m\n\u001b[1;31mSyntaxError\u001b[0m\u001b[1;31m:\u001b[0m invalid syntax\n"
     ]
    }
   ],
   "source": [
    "scrapy shell 'http://quotes.toscrape.com/page/1/'"
   ]
  },
  {
   "cell_type": "code",
   "execution_count": 4,
   "metadata": {
    "tags": []
   },
   "outputs": [],
   "source": [
    "import json\n",
    "with open('E:\\\\20201\\\\nhập môn khoa học dữ liệu\\\\project_dataScience\\\\oldCar\\\\1.json', encoding='utf8') as f:\n",
    "    data_1 = json.load(f)\n",
    "\n",
    "with open('E:\\\\20201\\\\nhập môn khoa học dữ liệu\\\\project_dataScience\\\\oldCar\\\\2.json', encoding='utf8') as f:\n",
    "    data_2 = json.load(f)\n",
    "\n",
    "with open('E:\\\\20201\\\\nhập môn khoa học dữ liệu\\\\project_dataScience\\\\oldCar\\\\3.json', encoding='utf8') as f:\n",
    "    data_3 = json.load(f)\n",
    "\n",
    "with open('E:\\\\20201\\\\nhập môn khoa học dữ liệu\\\\project_dataScience\\\\oldCar\\\\4.json', encoding='utf8') as f:\n",
    "    data_4 = json.load(f)\n",
    "\n",
    "data = data_1 + data_2 + data_3 + data_4"
   ]
  },
  {
   "cell_type": "code",
   "execution_count": 5,
   "metadata": {},
   "outputs": [
    {
     "output_type": "execute_result",
     "data": {
      "text/plain": [
       "31763"
      ]
     },
     "metadata": {},
     "execution_count": 5
    }
   ],
   "source": [
    "len(data)"
   ]
  },
  {
   "cell_type": "code",
   "execution_count": 6,
   "metadata": {},
   "outputs": [
    {
     "output_type": "stream",
     "name": "stdout",
     "text": [
      "{'car_info': {'Hãng: ': 'Kia', 'Dòng xe: ': 'Morning', 'Năm sản xuất: ': '2018', 'Số Km đã đi: ': '30000', 'Tình trạng: ': 'Đã sử dụng', 'Hộp số: ': 'Số sàn', 'Nhiên liệu: ': 'Xăng', 'Xuất xứ: ': 'Việt Nam', 'Kiểu dáng: ': 'Hatchback', 'Số chỗ: ': '5', 'Người bán gửi Video: ': 'Có hỗ trợ', 'dia diem': 'Phường Thống Nhất,  Thành phố Pleiku, Gia Lai'}, 'price': 250000000}\n"
     ]
    }
   ],
   "source": [
    "print(data[0])"
   ]
  },
  {
   "cell_type": "code",
   "execution_count": 5,
   "metadata": {},
   "outputs": [],
   "source": [
    "with open('/media/cnkillerz/DOCUMENT/20201/nhập môn khoa học dữ liệu/project_dataScience/oldCar/xe.chotot.json', 'w', encoding='utf8') as f:\n",
    "    json.dump(data, f, ensure_ascii=False)"
   ]
  },
  {
   "cell_type": "code",
   "execution_count": 7,
   "metadata": {},
   "outputs": [
    {
     "output_type": "execute_result",
     "data": {
      "text/plain": [
       "{'car_info': {'Hãng: ': 'Kia',\n",
       "  'Dòng xe: ': 'Morning',\n",
       "  'Năm sản xuất: ': '2018',\n",
       "  'Số Km đã đi: ': '30000',\n",
       "  'Tình trạng: ': 'Đã sử dụng',\n",
       "  'Hộp số: ': 'Số sàn',\n",
       "  'Nhiên liệu: ': 'Xăng',\n",
       "  'Xuất xứ: ': 'Việt Nam',\n",
       "  'Kiểu dáng: ': 'Hatchback',\n",
       "  'Số chỗ: ': '5',\n",
       "  'Người bán gửi Video: ': 'Có hỗ trợ',\n",
       "  'dia diem': 'Phường Thống Nhất,  Thành phố Pleiku, Gia Lai'},\n",
       " 'price': 250000000}"
      ]
     },
     "metadata": {},
     "execution_count": 7
    }
   ],
   "source": [
    "data[0]"
   ]
  },
  {
   "cell_type": "code",
   "execution_count": 8,
   "metadata": {},
   "outputs": [
    {
     "output_type": "stream",
     "name": "stdout",
     "text": [
      "{'car_info': {'Hãng: ': 'Kia', 'Dòng xe: ': 'Morning', 'Năm sản xuất: ': '2018', 'Số Km đã đi: ': '30000', 'Tình trạng: ': 'Đã sử dụng', 'Hộp số: ': 'Số sàn', 'Nhiên liệu: ': 'Xăng', 'Xuất xứ: ': 'Việt Nam', 'Kiểu dáng: ': 'Hatchback', 'Số chỗ: ': '5', 'Người bán gửi Video: ': 'Có hỗ trợ', 'dia diem': 'Phường Thống Nhất,  Thành phố Pleiku, Gia Lai', 'price': 250000000}, 'price': 250000000}\n"
     ]
    }
   ],
   "source": [
    "data[0]['car_info']['price'] = data[0]['price']\n",
    "print(data[0])"
   ]
  },
  {
   "cell_type": "code",
   "execution_count": 9,
   "metadata": {},
   "outputs": [],
   "source": [
    "for i in data:\n",
    "    i['car_info']['price'] = i['price']"
   ]
  },
  {
   "cell_type": "code",
   "execution_count": 11,
   "metadata": {},
   "outputs": [],
   "source": [
    "data_ = []\n",
    "for i in data:\n",
    "    data_.append(i['car_info'])"
   ]
  },
  {
   "cell_type": "code",
   "execution_count": 24,
   "metadata": {
    "tags": []
   },
   "outputs": [],
   "source": [
    "# print(data_)"
   ]
  },
  {
   "cell_type": "code",
   "execution_count": 14,
   "metadata": {},
   "outputs": [],
   "source": [
    "with open('E:\\\\20201\\\\nhập môn khoa học dữ liệu\\\\project_dataScience\\\\oldCar\\\\xe.chotot.1.json', 'w', encoding='utf8') as f:\n",
    "    json.dump(data_, f, ensure_ascii=False)"
   ]
  },
  {
   "cell_type": "code",
   "execution_count": 16,
   "metadata": {},
   "outputs": [
    {
     "output_type": "stream",
     "name": "stdout",
     "text": [
      "{'Đã sử dụng', 'Tình trạng: ', 'Hãng: ', 'Dòng xe: ', 'Số Km đã đi: ', 'price', '15000', 'Năm sản xuất: ', 'dia diem', 'Cần mua', 'Mới', 'Số chỗ: ', 'Xuất xứ: ', '60000', 'Kiểu dáng: ', 'Nhiên liệu: ', 'Người bán gửi Video: ', 'Hộp số: '}\n"
     ]
    }
   ],
   "source": [
    "features = set()\n",
    "for i in data_:\n",
    "    x = list(i.keys())\n",
    "    for j in x:\n",
    "        features.add(j)\n",
    "\n",
    "print(features)"
   ]
  },
  {
   "cell_type": "code",
   "execution_count": 1,
   "metadata": {},
   "outputs": [],
   "source": [
    "import pandas as pd "
   ]
  },
  {
   "cell_type": "code",
   "execution_count": 20,
   "metadata": {},
   "outputs": [],
   "source": [
    "import csv"
   ]
  },
  {
   "cell_type": "code",
   "execution_count": 56,
   "metadata": {},
   "outputs": [
    {
     "output_type": "error",
     "ename": "ValueError",
     "evalue": "dict contains fields not in fieldnames: 'Tình trạng: ', 'Hãng: ', 'Dòng xe: ', 'Số Km đã đi: ', 'price', 'Năm sản xuất: ', 'dia diem', 'Số chỗ: ', 'Xuất xứ: ', 'Kiểu dáng: ', 'Nhiên liệu: ', 'Người bán gửi Video: ', 'Hộp số: '",
     "traceback": [
      "\u001b[1;31m---------------------------------------------------------------------------\u001b[0m",
      "\u001b[1;31mValueError\u001b[0m                                Traceback (most recent call last)",
      "\u001b[1;32m<ipython-input-56-40a16e0d60b7>\u001b[0m in \u001b[0;36m<module>\u001b[1;34m\u001b[0m\n\u001b[0;32m      6\u001b[0m         \u001b[0mwriter\u001b[0m\u001b[1;33m.\u001b[0m\u001b[0mwriteheader\u001b[0m\u001b[1;33m(\u001b[0m\u001b[1;33m)\u001b[0m\u001b[1;33m\u001b[0m\u001b[1;33m\u001b[0m\u001b[0m\n\u001b[0;32m      7\u001b[0m         \u001b[1;32mfor\u001b[0m \u001b[0mdata\u001b[0m \u001b[1;32min\u001b[0m \u001b[0mdata_\u001b[0m\u001b[1;33m:\u001b[0m\u001b[1;33m\u001b[0m\u001b[1;33m\u001b[0m\u001b[0m\n\u001b[1;32m----> 8\u001b[1;33m             \u001b[0mwriter\u001b[0m\u001b[1;33m.\u001b[0m\u001b[0mwriterow\u001b[0m\u001b[1;33m(\u001b[0m\u001b[0mdata\u001b[0m\u001b[1;33m)\u001b[0m\u001b[1;33m\u001b[0m\u001b[1;33m\u001b[0m\u001b[0m\n\u001b[0m\u001b[0;32m      9\u001b[0m \u001b[1;32mexcept\u001b[0m \u001b[0mIOError\u001b[0m\u001b[1;33m:\u001b[0m\u001b[1;33m\u001b[0m\u001b[1;33m\u001b[0m\u001b[0m\n\u001b[0;32m     10\u001b[0m     \u001b[0mprint\u001b[0m\u001b[1;33m(\u001b[0m\u001b[1;34m\"I/O error\"\u001b[0m\u001b[1;33m)\u001b[0m\u001b[1;33m\u001b[0m\u001b[1;33m\u001b[0m\u001b[0m\n",
      "\u001b[1;32m~\\AppData\\Local\\Programs\\Python\\Python36\\lib\\csv.py\u001b[0m in \u001b[0;36mwriterow\u001b[1;34m(self, rowdict)\u001b[0m\n\u001b[0;32m    153\u001b[0m \u001b[1;33m\u001b[0m\u001b[0m\n\u001b[0;32m    154\u001b[0m     \u001b[1;32mdef\u001b[0m \u001b[0mwriterow\u001b[0m\u001b[1;33m(\u001b[0m\u001b[0mself\u001b[0m\u001b[1;33m,\u001b[0m \u001b[0mrowdict\u001b[0m\u001b[1;33m)\u001b[0m\u001b[1;33m:\u001b[0m\u001b[1;33m\u001b[0m\u001b[1;33m\u001b[0m\u001b[0m\n\u001b[1;32m--> 155\u001b[1;33m         \u001b[1;32mreturn\u001b[0m \u001b[0mself\u001b[0m\u001b[1;33m.\u001b[0m\u001b[0mwriter\u001b[0m\u001b[1;33m.\u001b[0m\u001b[0mwriterow\u001b[0m\u001b[1;33m(\u001b[0m\u001b[0mself\u001b[0m\u001b[1;33m.\u001b[0m\u001b[0m_dict_to_list\u001b[0m\u001b[1;33m(\u001b[0m\u001b[0mrowdict\u001b[0m\u001b[1;33m)\u001b[0m\u001b[1;33m)\u001b[0m\u001b[1;33m\u001b[0m\u001b[1;33m\u001b[0m\u001b[0m\n\u001b[0m\u001b[0;32m    156\u001b[0m \u001b[1;33m\u001b[0m\u001b[0m\n\u001b[0;32m    157\u001b[0m     \u001b[1;32mdef\u001b[0m \u001b[0mwriterows\u001b[0m\u001b[1;33m(\u001b[0m\u001b[0mself\u001b[0m\u001b[1;33m,\u001b[0m \u001b[0mrowdicts\u001b[0m\u001b[1;33m)\u001b[0m\u001b[1;33m:\u001b[0m\u001b[1;33m\u001b[0m\u001b[1;33m\u001b[0m\u001b[0m\n",
      "\u001b[1;32m~\\AppData\\Local\\Programs\\Python\\Python36\\lib\\csv.py\u001b[0m in \u001b[0;36m_dict_to_list\u001b[1;34m(self, rowdict)\u001b[0m\n\u001b[0;32m    149\u001b[0m             \u001b[1;32mif\u001b[0m \u001b[0mwrong_fields\u001b[0m\u001b[1;33m:\u001b[0m\u001b[1;33m\u001b[0m\u001b[1;33m\u001b[0m\u001b[0m\n\u001b[0;32m    150\u001b[0m                 raise ValueError(\"dict contains fields not in fieldnames: \"\n\u001b[1;32m--> 151\u001b[1;33m                                  + \", \".join([repr(x) for x in wrong_fields]))\n\u001b[0m\u001b[0;32m    152\u001b[0m         \u001b[1;32mreturn\u001b[0m \u001b[1;33m(\u001b[0m\u001b[0mrowdict\u001b[0m\u001b[1;33m.\u001b[0m\u001b[0mget\u001b[0m\u001b[1;33m(\u001b[0m\u001b[0mkey\u001b[0m\u001b[1;33m,\u001b[0m \u001b[0mself\u001b[0m\u001b[1;33m.\u001b[0m\u001b[0mrestval\u001b[0m\u001b[1;33m)\u001b[0m \u001b[1;32mfor\u001b[0m \u001b[0mkey\u001b[0m \u001b[1;32min\u001b[0m \u001b[0mself\u001b[0m\u001b[1;33m.\u001b[0m\u001b[0mfieldnames\u001b[0m\u001b[1;33m)\u001b[0m\u001b[1;33m\u001b[0m\u001b[1;33m\u001b[0m\u001b[0m\n\u001b[0;32m    153\u001b[0m \u001b[1;33m\u001b[0m\u001b[0m\n",
      "\u001b[1;31mValueError\u001b[0m: dict contains fields not in fieldnames: 'Tình trạng: ', 'Hãng: ', 'Dòng xe: ', 'Số Km đã đi: ', 'price', 'Năm sản xuất: ', 'dia diem', 'Số chỗ: ', 'Xuất xứ: ', 'Kiểu dáng: ', 'Nhiên liệu: ', 'Người bán gửi Video: ', 'Hộp số: '"
     ]
    }
   ],
   "source": [
    "csv_file = \"E:\\\\20201\\\\nhập môn khoa học dữ liệu\\\\project_dataScience\\\\oldCar\\\\Names_1.csv\"\n",
    "try:\n",
    "    with open(csv_file, 'w', encoding='utf8') as csvfile:\n",
    "        writer = csv.DictWriter(csvfile, fieldnames=['Hãng', 'Dòng xe', 'Năm sản xuất', 'Số Km đã đi', 'Tình trạng', 'Hộp số', 'Nhiên liệu', 'Xuất xứ', 'Kiểu dáng', 'Số chỗ', 'Gửi video', 'Địa chỉ', 'giá', 'cần mua', 'đã sử dụng','mới', '6', '15'])\n",
    "        # writer = csv.DictWriter(csvfile, fieldnames=list(features))\n",
    "        writer.writeheader()\n",
    "        for data in data_:\n",
    "            writer.writerow(data)\n",
    "except IOError:\n",
    "    print(\"I/O error\")"
   ]
  },
  {
   "cell_type": "code",
   "execution_count": 57,
   "metadata": {},
   "outputs": [],
   "source": [
    "df = pd.read_csv('E:\\\\20201\\\\nhập môn khoa học dữ liệu\\\\project_dataScience\\\\oldCar\\\\Names.csv')"
   ]
  },
  {
   "cell_type": "code",
   "execution_count": 60,
   "metadata": {},
   "outputs": [
    {
     "output_type": "execute_result",
     "data": {
      "text/plain": [
       "  Đã sử dụng Tình trạng:          Hãng:   Dòng xe:  Số Km đã đi:        price  \\\n",
       "0        NaN   Đã sử dụng            Kia    Morning         30000   250000000   \n",
       "1        NaN   Đã sử dụng            Kia    Morning         68000   285000000   \n",
       "2        NaN          Mới  Mercedes Benz    S Class           NaN  4299000000   \n",
       "3        NaN   Đã sử dụng         Toyota      Camry          6245   890000000   \n",
       "4        NaN   Đã sử dụng          Isuzu  Hi lander        124533   179000000   \n",
       "\n",
       "  15000 Năm sản xuất:                                          dia diem  \\\n",
       "0   NaN           2018    Phường Thống Nhất,  Thành phố Pleiku, Gia Lai   \n",
       "1   NaN           2011      Phường Mỹ Đình 1,  Quận Nam Từ Liêm, Hà Nội   \n",
       "2   NaN           2020  Phường Tây Thạnh,  Quận Tân Phú, Tp Hồ Chí Minh   \n",
       "3   NaN           2016                            Quận Cầu Giấy, Hà Nội   \n",
       "4   NaN           2008         Phường An Thới,  Quận Bình Thuỷ, Cần Thơ   \n",
       "\n",
       "  Cần mua  Mới Số chỗ:  Xuất xứ:  60000 Kiểu dáng:  Nhiên liệu:   \\\n",
       "0     NaN  NaN        5  Việt Nam   NaN   Hatchback         Xăng   \n",
       "1     NaN  NaN        5  Hàn Quốc   NaN   Hatchback         Xăng   \n",
       "2     NaN  NaN        5       Đức   NaN       Sedan         Xăng   \n",
       "3     NaN  NaN        5  Việt Nam   NaN       Sedan         Xăng   \n",
       "4     NaN  NaN        7  Nhật Bản   NaN       Sedan          Dầu   \n",
       "\n",
       "  Người bán gửi Video:  Hộp số:   \n",
       "0             Có hỗ trợ   Số sàn  \n",
       "1             Có hỗ trợ  Tự động  \n",
       "2                   NaN  Tự động  \n",
       "3                   NaN  Tự động  \n",
       "4                   NaN   Số sàn  "
      ],
      "text/html": "<div>\n<style scoped>\n    .dataframe tbody tr th:only-of-type {\n        vertical-align: middle;\n    }\n\n    .dataframe tbody tr th {\n        vertical-align: top;\n    }\n\n    .dataframe thead th {\n        text-align: right;\n    }\n</style>\n<table border=\"1\" class=\"dataframe\">\n  <thead>\n    <tr style=\"text-align: right;\">\n      <th></th>\n      <th>Đã sử dụng</th>\n      <th>Tình trạng:</th>\n      <th>Hãng:</th>\n      <th>Dòng xe:</th>\n      <th>Số Km đã đi:</th>\n      <th>price</th>\n      <th>15000</th>\n      <th>Năm sản xuất:</th>\n      <th>dia diem</th>\n      <th>Cần mua</th>\n      <th>Mới</th>\n      <th>Số chỗ:</th>\n      <th>Xuất xứ:</th>\n      <th>60000</th>\n      <th>Kiểu dáng:</th>\n      <th>Nhiên liệu:</th>\n      <th>Người bán gửi Video:</th>\n      <th>Hộp số:</th>\n    </tr>\n  </thead>\n  <tbody>\n    <tr>\n      <th>0</th>\n      <td>NaN</td>\n      <td>Đã sử dụng</td>\n      <td>Kia</td>\n      <td>Morning</td>\n      <td>30000</td>\n      <td>250000000</td>\n      <td>NaN</td>\n      <td>2018</td>\n      <td>Phường Thống Nhất,  Thành phố Pleiku, Gia Lai</td>\n      <td>NaN</td>\n      <td>NaN</td>\n      <td>5</td>\n      <td>Việt Nam</td>\n      <td>NaN</td>\n      <td>Hatchback</td>\n      <td>Xăng</td>\n      <td>Có hỗ trợ</td>\n      <td>Số sàn</td>\n    </tr>\n    <tr>\n      <th>1</th>\n      <td>NaN</td>\n      <td>Đã sử dụng</td>\n      <td>Kia</td>\n      <td>Morning</td>\n      <td>68000</td>\n      <td>285000000</td>\n      <td>NaN</td>\n      <td>2011</td>\n      <td>Phường Mỹ Đình 1,  Quận Nam Từ Liêm, Hà Nội</td>\n      <td>NaN</td>\n      <td>NaN</td>\n      <td>5</td>\n      <td>Hàn Quốc</td>\n      <td>NaN</td>\n      <td>Hatchback</td>\n      <td>Xăng</td>\n      <td>Có hỗ trợ</td>\n      <td>Tự động</td>\n    </tr>\n    <tr>\n      <th>2</th>\n      <td>NaN</td>\n      <td>Mới</td>\n      <td>Mercedes Benz</td>\n      <td>S Class</td>\n      <td>NaN</td>\n      <td>4299000000</td>\n      <td>NaN</td>\n      <td>2020</td>\n      <td>Phường Tây Thạnh,  Quận Tân Phú, Tp Hồ Chí Minh</td>\n      <td>NaN</td>\n      <td>NaN</td>\n      <td>5</td>\n      <td>Đức</td>\n      <td>NaN</td>\n      <td>Sedan</td>\n      <td>Xăng</td>\n      <td>NaN</td>\n      <td>Tự động</td>\n    </tr>\n    <tr>\n      <th>3</th>\n      <td>NaN</td>\n      <td>Đã sử dụng</td>\n      <td>Toyota</td>\n      <td>Camry</td>\n      <td>6245</td>\n      <td>890000000</td>\n      <td>NaN</td>\n      <td>2016</td>\n      <td>Quận Cầu Giấy, Hà Nội</td>\n      <td>NaN</td>\n      <td>NaN</td>\n      <td>5</td>\n      <td>Việt Nam</td>\n      <td>NaN</td>\n      <td>Sedan</td>\n      <td>Xăng</td>\n      <td>NaN</td>\n      <td>Tự động</td>\n    </tr>\n    <tr>\n      <th>4</th>\n      <td>NaN</td>\n      <td>Đã sử dụng</td>\n      <td>Isuzu</td>\n      <td>Hi lander</td>\n      <td>124533</td>\n      <td>179000000</td>\n      <td>NaN</td>\n      <td>2008</td>\n      <td>Phường An Thới,  Quận Bình Thuỷ, Cần Thơ</td>\n      <td>NaN</td>\n      <td>NaN</td>\n      <td>7</td>\n      <td>Nhật Bản</td>\n      <td>NaN</td>\n      <td>Sedan</td>\n      <td>Dầu</td>\n      <td>NaN</td>\n      <td>Số sàn</td>\n    </tr>\n  </tbody>\n</table>\n</div>"
     },
     "metadata": {},
     "execution_count": 60
    }
   ],
   "source": [
    "df.head()"
   ]
  },
  {
   "cell_type": "code",
   "execution_count": 64,
   "metadata": {},
   "outputs": [],
   "source": [
    "df = df.drop(['Đã sử dụng', '15000', 'Cần mua', 'Mới', '60000', 'Người bán gửi Video: '], axis=1)"
   ]
  },
  {
   "cell_type": "code",
   "execution_count": 2,
   "metadata": {},
   "outputs": [
    {
     "output_type": "error",
     "ename": "NameError",
     "evalue": "name 'df' is not defined",
     "traceback": [
      "\u001b[1;31m---------------------------------------------------------------------------\u001b[0m",
      "\u001b[1;31mNameError\u001b[0m                                 Traceback (most recent call last)",
      "\u001b[1;32m<ipython-input-2-a64de332a658>\u001b[0m in \u001b[0;36m<module>\u001b[1;34m\u001b[0m\n\u001b[1;32m----> 1\u001b[1;33m \u001b[0mdf\u001b[0m\u001b[1;33m.\u001b[0m\u001b[0mto_csv\u001b[0m \u001b[1;33m(\u001b[0m\u001b[1;34mr'E:\\\\20201\\\\nhập môn khoa học dữ liệu\\\\project_dataScience\\\\oldCar\\\\Names_2.csv'\u001b[0m\u001b[1;33m,\u001b[0m \u001b[0mindex\u001b[0m \u001b[1;33m=\u001b[0m \u001b[1;32mFalse\u001b[0m\u001b[1;33m,\u001b[0m \u001b[0mheader\u001b[0m\u001b[1;33m=\u001b[0m\u001b[1;32mTrue\u001b[0m\u001b[1;33m,\u001b[0m \u001b[0mencoding\u001b[0m\u001b[1;33m=\u001b[0m\u001b[1;34m'utf-8'\u001b[0m\u001b[1;33m)\u001b[0m\u001b[1;33m\u001b[0m\u001b[1;33m\u001b[0m\u001b[0m\n\u001b[0m",
      "\u001b[1;31mNameError\u001b[0m: name 'df' is not defined"
     ]
    }
   ],
   "source": [
    "df.to_csv (r'E:\\\\20201\\\\nhập môn khoa học dữ liệu\\\\project_dataScience\\\\oldCar\\\\Names_2.csv', index = False, header=True, encoding='utf-8')"
   ]
  },
  {
   "cell_type": "code",
   "execution_count": 67,
   "metadata": {},
   "outputs": [
    {
     "output_type": "execute_result",
     "data": {
      "text/plain": [
       "  Tình trạng:          Hãng:   Dòng xe:  Số Km đã đi:        price  \\\n",
       "0   Đã sử dụng            Kia    Morning         30000   250000000   \n",
       "1   Đã sử dụng            Kia    Morning         68000   285000000   \n",
       "2          Mới  Mercedes Benz    S Class           NaN  4299000000   \n",
       "3   Đã sử dụng         Toyota      Camry          6245   890000000   \n",
       "4   Đã sử dụng          Isuzu  Hi lander        124533   179000000   \n",
       "\n",
       "  Năm sản xuất:                                          dia diem Số chỗ:   \\\n",
       "0           2018    Phường Thống Nhất,  Thành phố Pleiku, Gia Lai        5   \n",
       "1           2011      Phường Mỹ Đình 1,  Quận Nam Từ Liêm, Hà Nội        5   \n",
       "2           2020  Phường Tây Thạnh,  Quận Tân Phú, Tp Hồ Chí Minh        5   \n",
       "3           2016                            Quận Cầu Giấy, Hà Nội        5   \n",
       "4           2008         Phường An Thới,  Quận Bình Thuỷ, Cần Thơ        7   \n",
       "\n",
       "  Xuất xứ:  Kiểu dáng:  Nhiên liệu:  Hộp số:   \n",
       "0  Việt Nam   Hatchback         Xăng   Số sàn  \n",
       "1  Hàn Quốc   Hatchback         Xăng  Tự động  \n",
       "2       Đức       Sedan         Xăng  Tự động  \n",
       "3  Việt Nam       Sedan         Xăng  Tự động  \n",
       "4  Nhật Bản       Sedan          Dầu   Số sàn  "
      ],
      "text/html": "<div>\n<style scoped>\n    .dataframe tbody tr th:only-of-type {\n        vertical-align: middle;\n    }\n\n    .dataframe tbody tr th {\n        vertical-align: top;\n    }\n\n    .dataframe thead th {\n        text-align: right;\n    }\n</style>\n<table border=\"1\" class=\"dataframe\">\n  <thead>\n    <tr style=\"text-align: right;\">\n      <th></th>\n      <th>Tình trạng:</th>\n      <th>Hãng:</th>\n      <th>Dòng xe:</th>\n      <th>Số Km đã đi:</th>\n      <th>price</th>\n      <th>Năm sản xuất:</th>\n      <th>dia diem</th>\n      <th>Số chỗ:</th>\n      <th>Xuất xứ:</th>\n      <th>Kiểu dáng:</th>\n      <th>Nhiên liệu:</th>\n      <th>Hộp số:</th>\n    </tr>\n  </thead>\n  <tbody>\n    <tr>\n      <th>0</th>\n      <td>Đã sử dụng</td>\n      <td>Kia</td>\n      <td>Morning</td>\n      <td>30000</td>\n      <td>250000000</td>\n      <td>2018</td>\n      <td>Phường Thống Nhất,  Thành phố Pleiku, Gia Lai</td>\n      <td>5</td>\n      <td>Việt Nam</td>\n      <td>Hatchback</td>\n      <td>Xăng</td>\n      <td>Số sàn</td>\n    </tr>\n    <tr>\n      <th>1</th>\n      <td>Đã sử dụng</td>\n      <td>Kia</td>\n      <td>Morning</td>\n      <td>68000</td>\n      <td>285000000</td>\n      <td>2011</td>\n      <td>Phường Mỹ Đình 1,  Quận Nam Từ Liêm, Hà Nội</td>\n      <td>5</td>\n      <td>Hàn Quốc</td>\n      <td>Hatchback</td>\n      <td>Xăng</td>\n      <td>Tự động</td>\n    </tr>\n    <tr>\n      <th>2</th>\n      <td>Mới</td>\n      <td>Mercedes Benz</td>\n      <td>S Class</td>\n      <td>NaN</td>\n      <td>4299000000</td>\n      <td>2020</td>\n      <td>Phường Tây Thạnh,  Quận Tân Phú, Tp Hồ Chí Minh</td>\n      <td>5</td>\n      <td>Đức</td>\n      <td>Sedan</td>\n      <td>Xăng</td>\n      <td>Tự động</td>\n    </tr>\n    <tr>\n      <th>3</th>\n      <td>Đã sử dụng</td>\n      <td>Toyota</td>\n      <td>Camry</td>\n      <td>6245</td>\n      <td>890000000</td>\n      <td>2016</td>\n      <td>Quận Cầu Giấy, Hà Nội</td>\n      <td>5</td>\n      <td>Việt Nam</td>\n      <td>Sedan</td>\n      <td>Xăng</td>\n      <td>Tự động</td>\n    </tr>\n    <tr>\n      <th>4</th>\n      <td>Đã sử dụng</td>\n      <td>Isuzu</td>\n      <td>Hi lander</td>\n      <td>124533</td>\n      <td>179000000</td>\n      <td>2008</td>\n      <td>Phường An Thới,  Quận Bình Thuỷ, Cần Thơ</td>\n      <td>7</td>\n      <td>Nhật Bản</td>\n      <td>Sedan</td>\n      <td>Dầu</td>\n      <td>Số sàn</td>\n    </tr>\n  </tbody>\n</table>\n</div>"
     },
     "metadata": {},
     "execution_count": 67
    }
   ],
   "source": [
    "df.head()"
   ]
  },
  {
   "cell_type": "code",
   "execution_count": 21,
   "metadata": {},
   "outputs": [],
   "source": [
    "df = pd.read_csv(r'E:\\\\20201\\\\nhập môn khoa học dữ liệu\\\\project_dataScience\\\\oldCar\\\\Names_2.csv', encoding='utf-8')"
   ]
  },
  {
   "cell_type": "code",
   "execution_count": 6,
   "metadata": {},
   "outputs": [
    {
     "output_type": "execute_result",
     "data": {
      "text/plain": [
       "  Tình trạng:          Hãng:   Dòng xe:  Số Km đã đi:        price  \\\n",
       "0   Đã sử dụng            Kia    Morning         30000   250000000   \n",
       "1   Đã sử dụng            Kia    Morning         68000   285000000   \n",
       "2          Mới  Mercedes Benz    S Class           NaN  4299000000   \n",
       "3   Đã sử dụng         Toyota      Camry          6245   890000000   \n",
       "4   Đã sử dụng          Isuzu  Hi lander        124533   179000000   \n",
       "\n",
       "  Năm sản xuất:                                          dia diem Số chỗ:   \\\n",
       "0           2018    Phường Thống Nhất,  Thành phố Pleiku, Gia Lai        5   \n",
       "1           2011      Phường Mỹ Đình 1,  Quận Nam Từ Liêm, Hà Nội        5   \n",
       "2           2020  Phường Tây Thạnh,  Quận Tân Phú, Tp Hồ Chí Minh        5   \n",
       "3           2016                            Quận Cầu Giấy, Hà Nội        5   \n",
       "4           2008         Phường An Thới,  Quận Bình Thuỷ, Cần Thơ        7   \n",
       "\n",
       "  Xuất xứ:  Kiểu dáng:  Nhiên liệu:  Hộp số:   \n",
       "0  Việt Nam   Hatchback         Xăng   Số sàn  \n",
       "1  Hàn Quốc   Hatchback         Xăng  Tự động  \n",
       "2       Đức       Sedan         Xăng  Tự động  \n",
       "3  Việt Nam       Sedan         Xăng  Tự động  \n",
       "4  Nhật Bản       Sedan          Dầu   Số sàn  "
      ],
      "text/html": "<div>\n<style scoped>\n    .dataframe tbody tr th:only-of-type {\n        vertical-align: middle;\n    }\n\n    .dataframe tbody tr th {\n        vertical-align: top;\n    }\n\n    .dataframe thead th {\n        text-align: right;\n    }\n</style>\n<table border=\"1\" class=\"dataframe\">\n  <thead>\n    <tr style=\"text-align: right;\">\n      <th></th>\n      <th>Tình trạng:</th>\n      <th>Hãng:</th>\n      <th>Dòng xe:</th>\n      <th>Số Km đã đi:</th>\n      <th>price</th>\n      <th>Năm sản xuất:</th>\n      <th>dia diem</th>\n      <th>Số chỗ:</th>\n      <th>Xuất xứ:</th>\n      <th>Kiểu dáng:</th>\n      <th>Nhiên liệu:</th>\n      <th>Hộp số:</th>\n    </tr>\n  </thead>\n  <tbody>\n    <tr>\n      <th>0</th>\n      <td>Đã sử dụng</td>\n      <td>Kia</td>\n      <td>Morning</td>\n      <td>30000</td>\n      <td>250000000</td>\n      <td>2018</td>\n      <td>Phường Thống Nhất,  Thành phố Pleiku, Gia Lai</td>\n      <td>5</td>\n      <td>Việt Nam</td>\n      <td>Hatchback</td>\n      <td>Xăng</td>\n      <td>Số sàn</td>\n    </tr>\n    <tr>\n      <th>1</th>\n      <td>Đã sử dụng</td>\n      <td>Kia</td>\n      <td>Morning</td>\n      <td>68000</td>\n      <td>285000000</td>\n      <td>2011</td>\n      <td>Phường Mỹ Đình 1,  Quận Nam Từ Liêm, Hà Nội</td>\n      <td>5</td>\n      <td>Hàn Quốc</td>\n      <td>Hatchback</td>\n      <td>Xăng</td>\n      <td>Tự động</td>\n    </tr>\n    <tr>\n      <th>2</th>\n      <td>Mới</td>\n      <td>Mercedes Benz</td>\n      <td>S Class</td>\n      <td>NaN</td>\n      <td>4299000000</td>\n      <td>2020</td>\n      <td>Phường Tây Thạnh,  Quận Tân Phú, Tp Hồ Chí Minh</td>\n      <td>5</td>\n      <td>Đức</td>\n      <td>Sedan</td>\n      <td>Xăng</td>\n      <td>Tự động</td>\n    </tr>\n    <tr>\n      <th>3</th>\n      <td>Đã sử dụng</td>\n      <td>Toyota</td>\n      <td>Camry</td>\n      <td>6245</td>\n      <td>890000000</td>\n      <td>2016</td>\n      <td>Quận Cầu Giấy, Hà Nội</td>\n      <td>5</td>\n      <td>Việt Nam</td>\n      <td>Sedan</td>\n      <td>Xăng</td>\n      <td>Tự động</td>\n    </tr>\n    <tr>\n      <th>4</th>\n      <td>Đã sử dụng</td>\n      <td>Isuzu</td>\n      <td>Hi lander</td>\n      <td>124533</td>\n      <td>179000000</td>\n      <td>2008</td>\n      <td>Phường An Thới,  Quận Bình Thuỷ, Cần Thơ</td>\n      <td>7</td>\n      <td>Nhật Bản</td>\n      <td>Sedan</td>\n      <td>Dầu</td>\n      <td>Số sàn</td>\n    </tr>\n  </tbody>\n</table>\n</div>"
     },
     "metadata": {},
     "execution_count": 6
    }
   ],
   "source": [
    "df.head()"
   ]
  },
  {
   "cell_type": "code",
   "execution_count": 7,
   "metadata": {},
   "outputs": [
    {
     "output_type": "execute_result",
     "data": {
      "text/plain": [
       "31763"
      ]
     },
     "metadata": {},
     "execution_count": 7
    }
   ],
   "source": [
    "len(df)"
   ]
  },
  {
   "cell_type": "code",
   "execution_count": 22,
   "metadata": {},
   "outputs": [
    {
     "output_type": "stream",
     "name": "stdout",
     "text": [
      "['Đã sử dụng' 'Mới' nan]\n['Kia' 'Mercedes Benz' 'Toyota' 'Isuzu' 'Mazda' 'Mitsubishi' 'Hyundai'\n 'Ford' 'Volkswagen' 'Daewoo' 'Chevrolet' 'Vinfast ' 'Hãng khác' nan\n 'Honda' 'Luxgen' 'Audi' 'Jeep' 'Acura' 'Ssangyong' 'Suzuki' 'Nissan'\n 'Mini' 'Lexus' 'BMW' 'Porsche' 'Subaru' 'MG' 'Peugeot' 'Jaguar'\n 'LandRover' 'Chery' 'Fiat' 'Mekong' 'Infiniti' 'Daihatsu' 'Baic'\n 'Renault' 'Volvo' 'Cadillac' 'Lifan' 'Bentley' 'Chrysler' 'SYM' 'Haima'\n 'Samsung' 'Zotye' 'Proton' 'Rover' 'Lincoln' 'Opel' 'Asia' 'Pontiac'\n 'BYD' 'UAZ' 'Citroen' 'Changan' 'Dodge' 'Ferrari' 'Rolls Royce' 'Reult'\n 'Maserati' 'Maybach' 'Gaz' 'Lada' 'Scion' 'Buick' 'Geely' 'Hummer'\n 'Lamborghini' 'Alfa Romeo' 'GMC']\n['Morning' 'S Class' 'Camry' 'Hi lander' 'Vios' '3' 'Pajero' 'Cerato'\n 'Dmax' 'Cressida' 'Grand i10' 'Ranger' 'Innova' 'Starex' 'CX 5' 'Touareg'\n 'Avante' 'Gentra' 'Pajero Sport' 'Spark' 'Lacetti' 'Lux' 'Sprinter'\n 'Dòng khác' 'Santa Fe' nan 'CR V' '7 SUV' 'Fadil ' 'Accent' 'Pride'\n 'Mu X' 'Q5' 'Cruze' 'Everest' 'Transit' 'Tucson' 'MX 6' 'Accord'\n 'Grand Starex' 'C Class' 'Rondo' '2' 'Corolla Altis' 'Wrangler'\n 'Fortuner' 'i20' 'EcoSport' 'Elantra' 'Carens' 'Attrage' 'Universe'\n 'Xpander' '6' 'MDX' 'Kona' 'City' 'Civic' 'Stavic' 'Trailblazer' 'Zace'\n 'F 150' 'Livina' 'Venza' 'Passat' 'Sedona' 'Jolie' 'HR-V' 'Triton' 'A5'\n 'Cooper' 'RX' 'GLC' 'Navara' 'Alphard' 'GL Class' 'Hiace' 'Corona'\n 'Hilux' 'Forte' 'A4' 'RAV4' 'Murano' 'Seltos' 'Ciaz' 'Spectra' 'Rio'\n '7 Series' 'Corolla' 'Grandis' 'Nubira' 'Swift' 'Getz' 'Soluto' 'County'\n 'Focus' 'BT 50' 'Escape' 'Ertiga' 'Aveo' 'Captiva' 'Wigo' 'Matiz' 'Trax'\n 'LS' 'Jazz' 'Rush' 'K3' 'Sorento' 'Sonata' 'Mondeo' 'NX' 'Lanos'\n 'X trail' 'A2' 'Corolla Cross' 'i30' 'CX 8' 'Q7' 'Sunny' 'Explorer'\n 'Fiesta' 'Outlander' 'Zinger' 'Lancer' 'E Class' 'Click' 'Picanto'\n 'Land Cruiser' 'XL 7' 'Vigor' 'GLK Class' 'CLA Class' 'Macan' 'Laser'\n 'A6' 'Legacy' 'ZT' 'Yaris' '3 Series' 'Lantra' '5008' 'IS' 'Brio '\n 'Bluebird' 'XF' 'Solati' 'CD5' 'Xpander Cross' 'Discovery' 'QQ3' 'GX'\n 'Genesis' 'Magnus' 'Tourneo' '3008' 'Musso' 'Avanza' '323' 'Forester'\n 'Aerostar' 'Cerato Koup' 'Siena' 'Soul' 'Vitara' 'Sienna' 'Colorado'\n 'Range Rover' 'Panamera' 'Orlando' 'Korando' 'Legend' 'Premio' 'XG'\n 'Flex' 'XJ series' 'GLC Class' 'ES' 'TT' 'Intergra' 'Premacy' '4 Runner'\n 'G37' 'Creta' 'CL Class' 'LX' 'Galloper' '86' '5' 'Carnival' 'Prado'\n 'Optima' 'Cayenne' 'Mirage' '5 Series' 'Cefiro' 'Vivant' 'RX 8' 'Terios'\n 'GLA Class' 'Outback' 'Previa' 'Cielo' 'X6' 'Fluence' 'Sportage' 'i8'\n '626' 'Grand livina' 'Wagon R+' 'Citivan' 'Azera' 'Verna' 'ML Class'\n 'Traveller' 'Eclipse' 'Q3' 'Tiguan' 'Odyssey' 'Pick up' 'Prius' 'Avella'\n 'CX 9' 'XC90' 'Chariot' 'SRX' 'IO' 'Land Cruiser Prado' 'Albea'\n 'GLE Class' 'S5' 'Celerio' 'FX' 'Paso' 'Kalos' 'M3' 'Teana' 'Escalade'\n 'EL' 'Wish' 'Range Rover Sport' 'X5' 'X3' 'Pathfinder' 'Highlander'\n 'X Terra' 'Tempra' 'Eon' 'A1' 'Concord' 'Skyline' 'K5' 'Crown'\n 'Flying Spur' 'GS' 'Scirocco' 'Range Rover Vogue' '300C' 'Grandeur'\n 'Chairman' 'Pronto' 'Rexton' 'X4' 'MB' 'CLS Class' 'New Beetle' 'A Class'\n '2 Series' 'Terracan' 'CJ' 'Tiida' 'Veloster' 'Tacoma' 'T880' 'Samirai'\n 'LR2' 'R Class' 'APV' 'Espero' '4 Series' 'eMighty' 'Escort' '911' 'Polo'\n 'Cadenza' 'Grand vitara' 'Cresta' 'U7' 'SM3' 'Cedric' 'Allion' 'X1'\n 'Aygo' 'Perdana' 'Trooper' 'Continental' 'Impreza' 'CTS' 'A8' '80' 'XC40'\n 'XC60' 'Kyron' 'GentraX' '7' 'Veracruz' '520' 'Tico' 'Beetle' 'Navigator'\n 'F PACE' 'Tivoli' 'F 450 ' 'Range Rover Evoque' '190' 'Mark II' '308'\n 'Ducato' 'Presage' '100NX' 'M couper' 'Mighty' '208' 'Voyager' '508'\n 'V Class' 'NMR' 'V5' 'Universe Xpress Luxury' '200SX' '323F' 'MPV'\n '7 MPV' 'Defender' 'XA' '500' 'CLK Class' 'GLB' 'Amigo' 'H 1' 'S90'\n 'Qashqai' 'Altima' 'Freelander' 'Maxima' 'SLK Class' 'Coupe' 'Aranos'\n 'Bronco' '408' 'Doblo' 'Atos' 'Punto' 'F0' 'Koleos' 'Hunter' 'Camaro'\n 'i3' '605' 'Golf' 'CL' '126' 'Xcent' 'Honor' 'Trans sport' 'Sentra'\n 'Focus C Max' 'QKR' 'Prince' 'Mustang' 'Z300' 'Galant' 'Moco'\n 'Yaris Verso' 'Potentia' 'Grand caravan' 'Equus' '505' '205' 'Evanda'\n 'K7' '575' 'Libero' '307' 'Gemini' 'Bravo' 'Patriot' 'Grunder' '207' 'RL'\n 'SL Class' 'Ghost' 'Pulsar' 'Cabriolet' 'A3' 'Z500' 'Centennial'\n 'B Class' 'Contour' 'A7' 'RDX' 'Routan' 'X7' 'Levante' 'QX60' 'Matrix'\n 'Outlander Sport' 'Gazele' 'Fj cruiser' 'Terrano' '2107' 'QX70' 'Tc' 'EX'\n 'Z4' 'Leganza' 'Electra' 'TL' 'Taurus' 'G Class' 'Maybach' 'HS' '107'\n 'Jeep' 'Labo' 'Sigma' 'Patrol' 'MX 3' '405' 'Alto' 'Pony' 'M4' 'Arcadia'\n '1 Series' 'Avenir' 'CS35' 'Emgrand' 'Aerio' 'WRX' 'NPR' 'Colt' 'L300'\n 'Ram' 'Ghibli' 'C2' '6 Series' 'NQR' 'H2' 'Tuscani' 'SM7' 'Vito'\n 'Chevyvan' '19' 'Huracan' 'Karando' 'Q2' '206' 'F 350' 'Caravan' 'ZDX'\n 'MX 5' '159' 'Carina' 'FVR' '370Z' 'AX' 'Tipo' 'Airtek' 'Trajet'\n 'Mulsanne' '929' 'Aviator' '940' 'Element' 'Crown victoria' '21'\n 'Quatroporte' 'Damas' 'Range Rover Velar' 'Wira']\n['Việt Nam' 'Hàn Quốc' 'Đức' 'Nhật Bản' 'Nước khác' nan 'Thái Lan' 'Ấn Độ'\n 'Mỹ' 'Đài Loan' 'Trung Quốc']\n['Hatchback' 'Sedan' 'SUV / Cross over' 'Pick-up (bán tải)' nan\n 'Minivan (MPV)' 'Van' 'Kiểu dáng khác' 'Mui trần' 'Coupe (2 cửa)']\n['Xăng' 'Dầu' nan 'Động cơ Hybrid']\n['Số sàn' 'Tự động' 'Bán tự động' nan]\n"
     ]
    }
   ],
   "source": [
    "print(df['Tình trạng: '].unique())\n",
    "print(df['Hãng: '].unique())\n",
    "print(df['Dòng xe: '].unique())\n",
    "print(df['Xuất xứ: '].unique())\n",
    "print(df['Kiểu dáng: '].unique())\n",
    "print(df['Nhiên liệu: '].unique())\n",
    "print(df['Hộp số: '].unique())\n",
    "# print(df['Dòng xe: '].unique())"
   ]
  },
  {
   "cell_type": "code",
   "execution_count": 23,
   "metadata": {},
   "outputs": [],
   "source": [
    "df = df.dropna()"
   ]
  },
  {
   "cell_type": "code",
   "execution_count": 24,
   "metadata": {},
   "outputs": [
    {
     "output_type": "execute_result",
     "data": {
      "text/plain": [
       "19406"
      ]
     },
     "metadata": {},
     "execution_count": 24
    }
   ],
   "source": [
    "len(df)"
   ]
  }
 ]
}